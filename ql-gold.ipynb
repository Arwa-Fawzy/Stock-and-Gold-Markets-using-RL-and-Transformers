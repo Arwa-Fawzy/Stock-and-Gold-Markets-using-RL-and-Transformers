{
 "cells": [
  {
   "cell_type": "code",
   "execution_count": 1,
   "id": "1d8d327d",
   "metadata": {
    "execution": {
     "iopub.execute_input": "2024-12-30T19:30:53.024385Z",
     "iopub.status.busy": "2024-12-30T19:30:53.024084Z",
     "iopub.status.idle": "2024-12-30T19:31:00.981650Z",
     "shell.execute_reply": "2024-12-30T19:31:00.980875Z"
    },
    "id": "VF_EqgWBBoqH",
    "papermill": {
     "duration": 7.963544,
     "end_time": "2024-12-30T19:31:00.983205",
     "exception": false,
     "start_time": "2024-12-30T19:30:53.019661",
     "status": "completed"
    },
    "tags": []
   },
   "outputs": [],
   "source": [
    "import pandas as pd\n",
    "import numpy as np\n",
    "import tensorflow as tf\n",
    "from tensorflow.keras.models import Sequential\n",
    "from tensorflow.keras.layers import Dense\n",
    "from collections import deque\n",
    "import random"
   ]
  },
  {
   "cell_type": "code",
   "execution_count": 2,
   "id": "e67add63",
   "metadata": {
    "execution": {
     "iopub.execute_input": "2024-12-30T19:31:00.990816Z",
     "iopub.status.busy": "2024-12-30T19:31:00.990334Z",
     "iopub.status.idle": "2024-12-30T19:31:01.026216Z",
     "shell.execute_reply": "2024-12-30T19:31:01.025604Z"
    },
    "id": "0HnQfY2QB3YC",
    "papermill": {
     "duration": 0.040729,
     "end_time": "2024-12-30T19:31:01.027484",
     "exception": false,
     "start_time": "2024-12-30T19:31:00.986755",
     "status": "completed"
    },
    "tags": []
   },
   "outputs": [],
   "source": [
    "# Load the dataset\n",
    "file_path = \"/kaggle/input/gold-new/Gold.csv\"\n",
    "df = pd.read_csv(file_path)"
   ]
  },
  {
   "cell_type": "code",
   "execution_count": 3,
   "id": "31841276",
   "metadata": {
    "execution": {
     "iopub.execute_input": "2024-12-30T19:31:01.034255Z",
     "iopub.status.busy": "2024-12-30T19:31:01.034041Z",
     "iopub.status.idle": "2024-12-30T19:31:01.048189Z",
     "shell.execute_reply": "2024-12-30T19:31:01.047589Z"
    },
    "id": "jqORtTzYCBUs",
    "papermill": {
     "duration": 0.018841,
     "end_time": "2024-12-30T19:31:01.049387",
     "exception": false,
     "start_time": "2024-12-30T19:31:01.030546",
     "status": "completed"
    },
    "tags": []
   },
   "outputs": [],
   "source": [
    "states = df[['Close/Last', 'Volume', 'Open', 'High', 'Low', 'day', 'month', 'year']].values"
   ]
  },
  {
   "cell_type": "code",
   "execution_count": 4,
   "id": "d2dc6ebd",
   "metadata": {
    "execution": {
     "iopub.execute_input": "2024-12-30T19:31:01.055823Z",
     "iopub.status.busy": "2024-12-30T19:31:01.055577Z",
     "iopub.status.idle": "2024-12-30T19:31:01.058636Z",
     "shell.execute_reply": "2024-12-30T19:31:01.058107Z"
    },
    "id": "00oaB7vNCDi_",
    "papermill": {
     "duration": 0.007582,
     "end_time": "2024-12-30T19:31:01.059902",
     "exception": false,
     "start_time": "2024-12-30T19:31:01.052320",
     "status": "completed"
    },
    "tags": []
   },
   "outputs": [],
   "source": [
    "# Add a decision column\n",
    "df['Decision'] = 'Hold'  # Default to Hold"
   ]
  },
  {
   "cell_type": "code",
   "execution_count": 5,
   "id": "016ce267",
   "metadata": {
    "execution": {
     "iopub.execute_input": "2024-12-30T19:31:01.066348Z",
     "iopub.status.busy": "2024-12-30T19:31:01.066142Z",
     "iopub.status.idle": "2024-12-30T19:31:01.069771Z",
     "shell.execute_reply": "2024-12-30T19:31:01.069098Z"
    },
    "id": "byDgggonCGRt",
    "papermill": {
     "duration": 0.007999,
     "end_time": "2024-12-30T19:31:01.070852",
     "exception": false,
     "start_time": "2024-12-30T19:31:01.062853",
     "status": "completed"
    },
    "tags": []
   },
   "outputs": [],
   "source": [
    "# Define parameters\n",
    "action_space = ['Buy', 'Sell', 'Hold']\n",
    "state_size = states.shape[1]\n",
    "action_size = len(action_space)\n",
    "episodes = 200\n",
    "gamma = 0.95  # Discount factor\n",
    "epsilon = 1.0  # Exploration rate\n",
    "epsilon_min = 0.01\n",
    "epsilon_decay = 0.995\n",
    "learning_rate = 0.001"
   ]
  },
  {
   "cell_type": "code",
   "execution_count": 6,
   "id": "4abb9823",
   "metadata": {
    "execution": {
     "iopub.execute_input": "2024-12-30T19:31:01.077178Z",
     "iopub.status.busy": "2024-12-30T19:31:01.076978Z",
     "iopub.status.idle": "2024-12-30T19:31:01.080760Z",
     "shell.execute_reply": "2024-12-30T19:31:01.079990Z"
    },
    "id": "9bQJ3f_PCJbz",
    "papermill": {
     "duration": 0.008382,
     "end_time": "2024-12-30T19:31:01.082047",
     "exception": false,
     "start_time": "2024-12-30T19:31:01.073665",
     "status": "completed"
    },
    "tags": []
   },
   "outputs": [],
   "source": [
    "# Build the Deep Q-Learning model\n",
    "def build_model():\n",
    "    model = Sequential()\n",
    "    model.add(Dense(64, input_dim=state_size, activation='relu'))\n",
    "    model.add(Dense(32, activation='relu'))\n",
    "    model.add(Dense(action_size, activation='linear'))\n",
    "    model.compile(loss='mse', optimizer=tf.keras.optimizers.Adam(learning_rate=learning_rate))\n",
    "    return model"
   ]
  },
  {
   "cell_type": "code",
   "execution_count": 7,
   "id": "04fbff23",
   "metadata": {
    "execution": {
     "iopub.execute_input": "2024-12-30T19:31:01.088591Z",
     "iopub.status.busy": "2024-12-30T19:31:01.088392Z",
     "iopub.status.idle": "2024-12-30T19:31:01.816473Z",
     "shell.execute_reply": "2024-12-30T19:31:01.815775Z"
    },
    "id": "k9Dy8ECHCPG5",
    "outputId": "f0eeed2e-8436-4be3-956c-d2d2e0edcae3",
    "papermill": {
     "duration": 0.732947,
     "end_time": "2024-12-30T19:31:01.817908",
     "exception": false,
     "start_time": "2024-12-30T19:31:01.084961",
     "status": "completed"
    },
    "tags": []
   },
   "outputs": [
    {
     "name": "stderr",
     "output_type": "stream",
     "text": [
      "/usr/local/lib/python3.10/dist-packages/keras/src/layers/core/dense.py:87: UserWarning: Do not pass an `input_shape`/`input_dim` argument to a layer. When using Sequential models, prefer using an `Input(shape)` object as the first layer in the model instead.\n",
      "  super().__init__(activity_regularizer=activity_regularizer, **kwargs)\n"
     ]
    }
   ],
   "source": [
    "# Initialize DQL\n",
    "model = build_model()\n",
    "target_model = build_model()\n",
    "target_model.set_weights(model.get_weights())"
   ]
  },
  {
   "cell_type": "code",
   "execution_count": 8,
   "id": "a2a05b29",
   "metadata": {
    "execution": {
     "iopub.execute_input": "2024-12-30T19:31:01.825245Z",
     "iopub.status.busy": "2024-12-30T19:31:01.825011Z",
     "iopub.status.idle": "2024-12-30T19:31:01.828475Z",
     "shell.execute_reply": "2024-12-30T19:31:01.827645Z"
    },
    "id": "bGtXyOfBCST1",
    "papermill": {
     "duration": 0.008524,
     "end_time": "2024-12-30T19:31:01.829775",
     "exception": false,
     "start_time": "2024-12-30T19:31:01.821251",
     "status": "completed"
    },
    "tags": []
   },
   "outputs": [],
   "source": [
    "# Experience replay buffer\n",
    "memory = deque(maxlen=2000)"
   ]
  },
  {
   "cell_type": "code",
   "execution_count": 9,
   "id": "fcf78f0f",
   "metadata": {
    "execution": {
     "iopub.execute_input": "2024-12-30T19:31:01.836752Z",
     "iopub.status.busy": "2024-12-30T19:31:01.836492Z",
     "iopub.status.idle": "2024-12-30T19:31:01.840173Z",
     "shell.execute_reply": "2024-12-30T19:31:01.839503Z"
    },
    "id": "e7ZrR216CW77",
    "papermill": {
     "duration": 0.008436,
     "end_time": "2024-12-30T19:31:01.841279",
     "exception": false,
     "start_time": "2024-12-30T19:31:01.832843",
     "status": "completed"
    },
    "tags": []
   },
   "outputs": [],
   "source": [
    "# Function to act\n",
    "def act(state):\n",
    "    if np.random.rand() <= epsilon:\n",
    "        return random.randrange(action_size)\n",
    "    q_values = model.predict(state, verbose=0)\n",
    "    return np.argmax(q_values[0])"
   ]
  },
  {
   "cell_type": "code",
   "execution_count": 10,
   "id": "74cd9f10",
   "metadata": {
    "execution": {
     "iopub.execute_input": "2024-12-30T19:31:01.847734Z",
     "iopub.status.busy": "2024-12-30T19:31:01.847490Z",
     "iopub.status.idle": "2024-12-30T19:31:01.851949Z",
     "shell.execute_reply": "2024-12-30T19:31:01.851118Z"
    },
    "id": "KeNttkGPCY20",
    "papermill": {
     "duration": 0.009038,
     "end_time": "2024-12-30T19:31:01.853218",
     "exception": false,
     "start_time": "2024-12-30T19:31:01.844180",
     "status": "completed"
    },
    "tags": []
   },
   "outputs": [],
   "source": [
    "# Function to replay and train\n",
    "def replay(batch_size=32):\n",
    "    global epsilon\n",
    "    minibatch = random.sample(memory, batch_size)\n",
    "    for state, action, reward, next_state, done in minibatch:\n",
    "        target = reward\n",
    "        if not done:\n",
    "            target += gamma * np.amax(target_model.predict(next_state, verbose=0)[0])\n",
    "        target_f = model.predict(state, verbose=0)\n",
    "        target_f[0][action] = target\n",
    "        model.fit(state, target_f, epochs=1, verbose=0)\n",
    "    if epsilon > epsilon_min:\n",
    "        epsilon *= epsilon_decay"
   ]
  },
  {
   "cell_type": "code",
   "execution_count": 11,
   "id": "0609eec6",
   "metadata": {
    "execution": {
     "iopub.execute_input": "2024-12-30T19:31:01.859837Z",
     "iopub.status.busy": "2024-12-30T19:31:01.859573Z",
     "iopub.status.idle": "2024-12-30T22:24:05.760417Z",
     "shell.execute_reply": "2024-12-30T22:24:05.759664Z"
    },
    "id": "Jh-6lgt0CcEq",
    "outputId": "3f50be13-314b-43ff-e8ab-e60645cfae86",
    "papermill": {
     "duration": 10383.905995,
     "end_time": "2024-12-30T22:24:05.762112",
     "exception": false,
     "start_time": "2024-12-30T19:31:01.856117",
     "status": "completed"
    },
    "tags": []
   },
   "outputs": [
    {
     "name": "stdout",
     "output_type": "stream",
     "text": [
      "Episode 1/200 finished\n",
      "Episode 2/200 finished\n",
      "Episode 3/200 finished\n",
      "Episode 4/200 finished\n",
      "Episode 5/200 finished\n",
      "Episode 6/200 finished\n",
      "Episode 7/200 finished\n",
      "Episode 8/200 finished\n",
      "Episode 9/200 finished\n",
      "Episode 10/200 finished\n",
      "Episode 11/200 finished\n",
      "Episode 12/200 finished\n",
      "Episode 13/200 finished\n",
      "Episode 14/200 finished\n",
      "Episode 15/200 finished\n",
      "Episode 16/200 finished\n",
      "Episode 17/200 finished\n",
      "Episode 18/200 finished\n",
      "Episode 19/200 finished\n",
      "Episode 20/200 finished\n",
      "Episode 21/200 finished\n",
      "Episode 22/200 finished\n",
      "Episode 23/200 finished\n",
      "Episode 24/200 finished\n",
      "Episode 25/200 finished\n",
      "Episode 26/200 finished\n",
      "Episode 27/200 finished\n",
      "Episode 28/200 finished\n",
      "Episode 29/200 finished\n",
      "Episode 30/200 finished\n",
      "Episode 31/200 finished\n",
      "Episode 32/200 finished\n",
      "Episode 33/200 finished\n",
      "Episode 34/200 finished\n",
      "Episode 35/200 finished\n",
      "Episode 36/200 finished\n",
      "Episode 37/200 finished\n",
      "Episode 38/200 finished\n",
      "Episode 39/200 finished\n",
      "Episode 40/200 finished\n",
      "Episode 41/200 finished\n",
      "Episode 42/200 finished\n",
      "Episode 43/200 finished\n",
      "Episode 44/200 finished\n",
      "Episode 45/200 finished\n",
      "Episode 46/200 finished\n",
      "Episode 47/200 finished\n",
      "Episode 48/200 finished\n",
      "Episode 49/200 finished\n",
      "Episode 50/200 finished\n",
      "Episode 51/200 finished\n",
      "Episode 52/200 finished\n",
      "Episode 53/200 finished\n",
      "Episode 54/200 finished\n",
      "Episode 55/200 finished\n",
      "Episode 56/200 finished\n",
      "Episode 57/200 finished\n",
      "Episode 58/200 finished\n",
      "Episode 59/200 finished\n",
      "Episode 60/200 finished\n",
      "Episode 61/200 finished\n",
      "Episode 62/200 finished\n",
      "Episode 63/200 finished\n",
      "Episode 64/200 finished\n",
      "Episode 65/200 finished\n",
      "Episode 66/200 finished\n",
      "Episode 67/200 finished\n",
      "Episode 68/200 finished\n",
      "Episode 69/200 finished\n",
      "Episode 70/200 finished\n",
      "Episode 71/200 finished\n",
      "Episode 72/200 finished\n",
      "Episode 73/200 finished\n",
      "Episode 74/200 finished\n",
      "Episode 75/200 finished\n",
      "Episode 76/200 finished\n",
      "Episode 77/200 finished\n",
      "Episode 78/200 finished\n",
      "Episode 79/200 finished\n",
      "Episode 80/200 finished\n",
      "Episode 81/200 finished\n",
      "Episode 82/200 finished\n",
      "Episode 83/200 finished\n",
      "Episode 84/200 finished\n",
      "Episode 85/200 finished\n",
      "Episode 86/200 finished\n",
      "Episode 87/200 finished\n",
      "Episode 88/200 finished\n",
      "Episode 89/200 finished\n",
      "Episode 90/200 finished\n",
      "Episode 91/200 finished\n",
      "Episode 92/200 finished\n",
      "Episode 93/200 finished\n",
      "Episode 94/200 finished\n",
      "Episode 95/200 finished\n",
      "Episode 96/200 finished\n",
      "Episode 97/200 finished\n",
      "Episode 98/200 finished\n",
      "Episode 99/200 finished\n",
      "Episode 100/200 finished\n",
      "Episode 101/200 finished\n",
      "Episode 102/200 finished\n",
      "Episode 103/200 finished\n",
      "Episode 104/200 finished\n",
      "Episode 105/200 finished\n",
      "Episode 106/200 finished\n",
      "Episode 107/200 finished\n",
      "Episode 108/200 finished\n",
      "Episode 109/200 finished\n",
      "Episode 110/200 finished\n",
      "Episode 111/200 finished\n",
      "Episode 112/200 finished\n",
      "Episode 113/200 finished\n",
      "Episode 114/200 finished\n",
      "Episode 115/200 finished\n",
      "Episode 116/200 finished\n",
      "Episode 117/200 finished\n",
      "Episode 118/200 finished\n",
      "Episode 119/200 finished\n",
      "Episode 120/200 finished\n",
      "Episode 121/200 finished\n",
      "Episode 122/200 finished\n",
      "Episode 123/200 finished\n",
      "Episode 124/200 finished\n",
      "Episode 125/200 finished\n",
      "Episode 126/200 finished\n",
      "Episode 127/200 finished\n",
      "Episode 128/200 finished\n",
      "Episode 129/200 finished\n",
      "Episode 130/200 finished\n",
      "Episode 131/200 finished\n",
      "Episode 132/200 finished\n",
      "Episode 133/200 finished\n",
      "Episode 134/200 finished\n",
      "Episode 135/200 finished\n",
      "Episode 136/200 finished\n",
      "Episode 137/200 finished\n",
      "Episode 138/200 finished\n",
      "Episode 139/200 finished\n",
      "Episode 140/200 finished\n",
      "Episode 141/200 finished\n",
      "Episode 142/200 finished\n",
      "Episode 143/200 finished\n",
      "Episode 144/200 finished\n",
      "Episode 145/200 finished\n",
      "Episode 146/200 finished\n",
      "Episode 147/200 finished\n",
      "Episode 148/200 finished\n",
      "Episode 149/200 finished\n",
      "Episode 150/200 finished\n",
      "Episode 151/200 finished\n",
      "Episode 152/200 finished\n",
      "Episode 153/200 finished\n",
      "Episode 154/200 finished\n",
      "Episode 155/200 finished\n",
      "Episode 156/200 finished\n",
      "Episode 157/200 finished\n",
      "Episode 158/200 finished\n",
      "Episode 159/200 finished\n",
      "Episode 160/200 finished\n",
      "Episode 161/200 finished\n",
      "Episode 162/200 finished\n",
      "Episode 163/200 finished\n",
      "Episode 164/200 finished\n",
      "Episode 165/200 finished\n",
      "Episode 166/200 finished\n",
      "Episode 167/200 finished\n",
      "Episode 168/200 finished\n",
      "Episode 169/200 finished\n",
      "Episode 170/200 finished\n",
      "Episode 171/200 finished\n",
      "Episode 172/200 finished\n",
      "Episode 173/200 finished\n",
      "Episode 174/200 finished\n",
      "Episode 175/200 finished\n",
      "Episode 176/200 finished\n",
      "Episode 177/200 finished\n",
      "Episode 178/200 finished\n",
      "Episode 179/200 finished\n",
      "Episode 180/200 finished\n",
      "Episode 181/200 finished\n",
      "Episode 182/200 finished\n",
      "Episode 183/200 finished\n",
      "Episode 184/200 finished\n",
      "Episode 185/200 finished\n",
      "Episode 186/200 finished\n",
      "Episode 187/200 finished\n",
      "Episode 188/200 finished\n",
      "Episode 189/200 finished\n",
      "Episode 190/200 finished\n",
      "Episode 191/200 finished\n",
      "Episode 192/200 finished\n",
      "Episode 193/200 finished\n",
      "Episode 194/200 finished\n",
      "Episode 195/200 finished\n",
      "Episode 196/200 finished\n",
      "Episode 197/200 finished\n",
      "Episode 198/200 finished\n",
      "Episode 199/200 finished\n",
      "Episode 200/200 finished\n"
     ]
    }
   ],
   "source": [
    "# Train the model\n",
    "for e in range(episodes):\n",
    "    state = np.reshape(states[0], [1, state_size])\n",
    "    for time in range(len(states)):\n",
    "        action = act(state)\n",
    "        next_state = np.reshape(states[time], [1, state_size])\n",
    "        reward = 0\n",
    "        done = time == len(states) - 1\n",
    "\n",
    "        # Define rewards\n",
    "        if action == 0:  # Buy\n",
    "            reward = 1 if df['Close/Last'].iloc[time] < df['Close/Last'].iloc[time - 1] else -1\n",
    "        elif action == 1:  # Sell\n",
    "            reward = 1 if df['Close/Last'].iloc[time] > df['Close/Last'].iloc[time - 1] else -1\n",
    "\n",
    "        memory.append((state, action, reward, next_state, done))\n",
    "        state = next_state\n",
    "\n",
    "        if done:\n",
    "            print(f\"Episode {e+1}/{episodes} finished\")\n",
    "            break\n",
    "    if len(memory) > 32:\n",
    "        replay()"
   ]
  },
  {
   "cell_type": "code",
   "execution_count": 12,
   "id": "1c162127",
   "metadata": {
    "execution": {
     "iopub.execute_input": "2024-12-30T22:24:05.787530Z",
     "iopub.status.busy": "2024-12-30T22:24:05.787282Z",
     "iopub.status.idle": "2024-12-30T22:25:27.541607Z",
     "shell.execute_reply": "2024-12-30T22:25:27.540902Z"
    },
    "id": "Xdxk4P6OCl3k",
    "papermill": {
     "duration": 81.76834,
     "end_time": "2024-12-30T22:25:27.543289",
     "exception": false,
     "start_time": "2024-12-30T22:24:05.774949",
     "status": "completed"
    },
    "tags": []
   },
   "outputs": [],
   "source": [
    "# Generate decisions\n",
    "df['Decision'] = [action_space[act(np.reshape(state, [1, state_size]))] for state in states]"
   ]
  },
  {
   "cell_type": "code",
   "execution_count": 13,
   "id": "66677a5f",
   "metadata": {
    "execution": {
     "iopub.execute_input": "2024-12-30T22:25:27.568165Z",
     "iopub.status.busy": "2024-12-30T22:25:27.567933Z",
     "iopub.status.idle": "2024-12-30T22:25:27.587089Z",
     "shell.execute_reply": "2024-12-30T22:25:27.586294Z"
    },
    "id": "YPkZjhmNCo_Q",
    "papermill": {
     "duration": 0.032398,
     "end_time": "2024-12-30T22:25:27.588316",
     "exception": false,
     "start_time": "2024-12-30T22:25:27.555918",
     "status": "completed"
    },
    "tags": []
   },
   "outputs": [
    {
     "name": "stdout",
     "output_type": "stream",
     "text": [
      "Updated dataset saved to Gold_decisions.csv\n"
     ]
    }
   ],
   "source": [
    "# Save the updated dataset\n",
    "output_file = \"Gold_decisions.csv\"\n",
    "df.to_csv(output_file, index=False)\n",
    "\n",
    "print(f\"Updated dataset saved to {output_file}\")"
   ]
  },
  {
   "cell_type": "code",
   "execution_count": 14,
   "id": "d2b1b60a",
   "metadata": {
    "execution": {
     "iopub.execute_input": "2024-12-30T22:25:27.611817Z",
     "iopub.status.busy": "2024-12-30T22:25:27.611557Z",
     "iopub.status.idle": "2024-12-30T22:25:27.656977Z",
     "shell.execute_reply": "2024-12-30T22:25:27.656122Z"
    },
    "id": "OJMacP8sCuUu",
    "papermill": {
     "duration": 0.058559,
     "end_time": "2024-12-30T22:25:27.658231",
     "exception": false,
     "start_time": "2024-12-30T22:25:27.599672",
     "status": "completed"
    },
    "tags": []
   },
   "outputs": [
    {
     "name": "stdout",
     "output_type": "stream",
     "text": [
      "Evaluation Metrics:\n",
      "Total Profit: $47.70\n",
      "Win Rate: 85.57%\n",
      "Sharpe Ratio: -0.17\n",
      "Final Balance: $10047.70\n"
     ]
    }
   ],
   "source": [
    "# Evaluation metrics\n",
    "def evaluate_trades(df):\n",
    "    initial_balance = 10000  # Starting balance\n",
    "    balance = initial_balance\n",
    "    gold_owned = 0\n",
    "    profits = []\n",
    "\n",
    "    for i in range(len(df) - 1):\n",
    "        decision = df['Decision'].iloc[i]\n",
    "        price = df['Close/Last'].iloc[i]\n",
    "\n",
    "        # Execute trades\n",
    "        if decision == 'Buy' and balance >= price:  # Buy gold\n",
    "            gold_owned += 1\n",
    "            balance -= price\n",
    "        elif decision == 'Sell' and gold_owned > 0:  # Sell gold\n",
    "            gold_owned -= 1\n",
    "            balance += price\n",
    "            profits.append(balance - initial_balance)\n",
    "\n",
    "    # Final balance after selling remaining gold\n",
    "    final_price = df['Close/Last'].iloc[-1]\n",
    "    balance += gold_owned * final_price\n",
    "    profits.append(balance - initial_balance)\n",
    "\n",
    "    # Metrics\n",
    "    total_profit = balance - initial_balance\n",
    "    win_rate = sum(1 for p in profits if p > 0) / len(profits) if profits else 0\n",
    "    mean_return = np.mean(profits)\n",
    "    std_return = np.std(profits)\n",
    "    sharpe_ratio = mean_return / std_return if std_return != 0 else 0\n",
    "\n",
    "    print(\"Evaluation Metrics:\")\n",
    "    print(f\"Total Profit: ${total_profit:.2f}\")\n",
    "    print(f\"Win Rate: {win_rate * 100:.2f}%\")\n",
    "    print(f\"Sharpe Ratio: {sharpe_ratio:.2f}\")\n",
    "    print(f\"Final Balance: ${balance:.2f}\")\n",
    "\n",
    "    return {\n",
    "        \"Total Profit\": total_profit,\n",
    "        \"Win Rate\": win_rate,\n",
    "        \"Sharpe Ratio\": sharpe_ratio,\n",
    "        \"Final Balance\": balance\n",
    "    }\n",
    "\n",
    "# Evaluate the model\n",
    "results = evaluate_trades(df)"
   ]
  },
  {
   "cell_type": "code",
   "execution_count": null,
   "id": "15c45a08",
   "metadata": {
    "papermill": {
     "duration": 0.011204,
     "end_time": "2024-12-30T22:25:27.681158",
     "exception": false,
     "start_time": "2024-12-30T22:25:27.669954",
     "status": "completed"
    },
    "tags": []
   },
   "outputs": [],
   "source": []
  }
 ],
 "metadata": {
  "accelerator": "GPU",
  "colab": {
   "gpuType": "T4",
   "provenance": []
  },
  "kaggle": {
   "accelerator": "gpu",
   "dataSources": [
    {
     "datasetId": 6394356,
     "sourceId": 10327165,
     "sourceType": "datasetVersion"
    },
    {
     "datasetId": 6396341,
     "sourceId": 10330240,
     "sourceType": "datasetVersion"
    }
   ],
   "dockerImageVersionId": 30823,
   "isGpuEnabled": true,
   "isInternetEnabled": true,
   "language": "python",
   "sourceType": "notebook"
  },
  "kernelspec": {
   "display_name": "Python 3",
   "language": "python",
   "name": "python3"
  },
  "language_info": {
   "codemirror_mode": {
    "name": "ipython",
    "version": 3
   },
   "file_extension": ".py",
   "mimetype": "text/x-python",
   "name": "python",
   "nbconvert_exporter": "python",
   "pygments_lexer": "ipython3",
   "version": "3.10.12"
  },
  "papermill": {
   "default_parameters": {},
   "duration": 10478.338636,
   "end_time": "2024-12-30T22:25:29.225313",
   "environment_variables": {},
   "exception": null,
   "input_path": "__notebook__.ipynb",
   "output_path": "__notebook__.ipynb",
   "parameters": {},
   "start_time": "2024-12-30T19:30:50.886677",
   "version": "2.6.0"
  }
 },
 "nbformat": 4,
 "nbformat_minor": 5
}
