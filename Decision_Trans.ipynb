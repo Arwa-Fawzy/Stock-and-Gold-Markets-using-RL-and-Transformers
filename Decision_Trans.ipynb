{
  "nbformat": 4,
  "nbformat_minor": 0,
  "metadata": {
    "colab": {
      "provenance": []
    },
    "kernelspec": {
      "name": "python3",
      "display_name": "Python 3"
    },
    "language_info": {
      "name": "python"
    }
  },
  "cells": [
    {
      "cell_type": "code",
      "source": [
        "import numpy as np\n",
        "import pandas as pd\n",
        "import matplotlib.pyplot as plt\n",
        "import torch\n",
        "import torch.nn as nn\n",
        "import torch.optim as optim\n",
        "from torch.utils.data import Dataset, DataLoader"
      ],
      "metadata": {
        "id": "cwOLnL4avGS7"
      },
      "execution_count": 14,
      "outputs": []
    },
    {
      "cell_type": "code",
      "source": [
        "df = pd.read_csv('Gold2.csv')\n",
        "df['decision'] = 'Hold'\n",
        "\n",
        "short_window = 5\n",
        "long_window = 15\n",
        "\n",
        "# Calculate short-term and long-term moving averages\n",
        "df['SMA_short'] = df['Close/Last'].rolling(window=short_window).mean()\n",
        "df['SMA_long'] = df['Close/Last'].rolling(window=long_window).mean()\n",
        "\n",
        "\n",
        "df.dropna(inplace=True)\n",
        "\n",
        "df['PriceChange'] = df['Close/Last'].pct_change().fillna(0)\n",
        "df['Action'] = 0  # 0: Hold, 1: Buy, 2: Sell"
      ],
      "metadata": {
        "id": "pRW_WOFPvI8t"
      },
      "execution_count": 15,
      "outputs": []
    },
    {
      "cell_type": "code",
      "source": [
        "# Define labels for supervised learning\n",
        "for i in range(len(df)):\n",
        "    if df['Close/Last'].iloc[i] < df['SMA_short'].iloc[i]:\n",
        "        df.loc[df.index[i], 'Action'] = 1  # Buy\n",
        "    elif df['Close/Last'].iloc[i] > df['SMA_long'].iloc[i]:\n",
        "        df.loc[df.index[i], 'Action'] = 2  # Sell"
      ],
      "metadata": {
        "id": "Y2DlpqvsvXNn"
      },
      "execution_count": 16,
      "outputs": []
    },
    {
      "cell_type": "code",
      "source": [
        "# Split data into training and test sets\n",
        "split_ratio = 0.8\n",
        "train_size = int(len(df) * split_ratio)\n",
        "train_data = df[:train_size]\n",
        "test_data = df[train_size:]"
      ],
      "metadata": {
        "id": "cqOT3GXhvaVg"
      },
      "execution_count": 17,
      "outputs": []
    },
    {
      "cell_type": "code",
      "source": [
        "class TradingDataset(Dataset):\n",
        "    def __init__(self, data, sequence_length=10):\n",
        "        self.data = data\n",
        "        self.sequence_length = sequence_length\n",
        "\n",
        "    def __len__(self):\n",
        "        return len(self.data) - self.sequence_length\n",
        "\n",
        "    def __getitem__(self, idx):\n",
        "        seq = self.data.iloc[idx:idx + self.sequence_length]\n",
        "        features = seq[['Close/Last', 'SMA_short', 'SMA_long', 'PriceChange']].values\n",
        "        action = seq['Action'].iloc[-1]\n",
        "        return torch.tensor(features, dtype=torch.float32), torch.tensor(action, dtype=torch.long)"
      ],
      "metadata": {
        "id": "lSF8EIA4vcWj"
      },
      "execution_count": 18,
      "outputs": []
    },
    {
      "cell_type": "code",
      "source": [
        "sequence_length = 10\n",
        "train_dataset = TradingDataset(train_data, sequence_length=sequence_length)\n",
        "test_dataset = TradingDataset(test_data, sequence_length=sequence_length)\n",
        "\n",
        "train_loader = DataLoader(train_dataset, batch_size=32, shuffle=True)\n",
        "test_loader = DataLoader(test_dataset, batch_size=32, shuffle=False)"
      ],
      "metadata": {
        "id": "8aLDRerwvenP"
      },
      "execution_count": 19,
      "outputs": []
    },
    {
      "cell_type": "code",
      "source": [
        "class DecisionTransformer(nn.Module):\n",
        "    def __init__(self, input_dim, output_dim, hidden_dim, n_heads, n_layers):\n",
        "        super(DecisionTransformer, self).__init__()\n",
        "        self.encoder_layer = nn.TransformerEncoderLayer(d_model=input_dim, nhead=n_heads, dim_feedforward=hidden_dim)\n",
        "        self.encoder = nn.TransformerEncoder(self.encoder_layer, num_layers=n_layers)\n",
        "        self.fc = nn.Linear(input_dim, output_dim)\n",
        "\n",
        "    def forward(self, x):\n",
        "        x = x.permute(1, 0, 2)\n",
        "        x = self.encoder(x)\n",
        "        x = x.mean(dim=0)\n",
        "        x = self.fc(x)\n",
        "        return x"
      ],
      "metadata": {
        "id": "tw-YFjjqvhOg"
      },
      "execution_count": 20,
      "outputs": []
    },
    {
      "cell_type": "code",
      "source": [
        "input_dim = 4\n",
        "output_dim = 3\n",
        "hidden_dim = 64\n",
        "n_heads = 4\n",
        "n_layers = 2"
      ],
      "metadata": {
        "id": "8Rt0XL46vl3E"
      },
      "execution_count": 21,
      "outputs": []
    },
    {
      "cell_type": "code",
      "source": [
        "model = DecisionTransformer(input_dim=input_dim, output_dim=output_dim, hidden_dim=hidden_dim, n_heads=n_heads, n_layers=n_layers)\n",
        "criterion = nn.CrossEntropyLoss()\n",
        "optimizer = optim.Adam(model.parameters(), lr=0.001)"
      ],
      "metadata": {
        "colab": {
          "base_uri": "https://localhost:8080/"
        },
        "id": "D8Nm66Nwvpng",
        "outputId": "5c617db6-c614-4311-b52f-84873c46046f"
      },
      "execution_count": 22,
      "outputs": [
        {
          "output_type": "stream",
          "name": "stderr",
          "text": [
            "/usr/local/lib/python3.10/dist-packages/torch/nn/modules/transformer.py:379: UserWarning: enable_nested_tensor is True, but self.use_nested_tensor is False because encoder_layer.self_attn.batch_first was not True(use batch_first for better inference performance)\n",
            "  warnings.warn(\n"
          ]
        }
      ]
    },
    {
      "cell_type": "code",
      "execution_count": 23,
      "metadata": {
        "colab": {
          "base_uri": "https://localhost:8080/"
        },
        "id": "-SZmcb7JvCt2",
        "outputId": "a2cc754e-fd01-4e5f-b90a-775fc81a0319"
      },
      "outputs": [
        {
          "output_type": "stream",
          "name": "stdout",
          "text": [
            "Epoch 1/100, Loss: 1.0027\n",
            "Epoch 2/100, Loss: 0.9750\n",
            "Epoch 3/100, Loss: 0.9741\n",
            "Epoch 4/100, Loss: 0.9748\n",
            "Epoch 5/100, Loss: 0.9744\n",
            "Epoch 6/100, Loss: 0.9743\n",
            "Epoch 7/100, Loss: 0.9736\n",
            "Epoch 8/100, Loss: 0.9745\n",
            "Epoch 9/100, Loss: 0.9740\n",
            "Epoch 10/100, Loss: 0.9733\n",
            "Epoch 11/100, Loss: 0.9727\n",
            "Epoch 12/100, Loss: 0.9725\n",
            "Epoch 13/100, Loss: 0.9739\n",
            "Epoch 14/100, Loss: 0.9730\n",
            "Epoch 15/100, Loss: 0.9737\n",
            "Epoch 16/100, Loss: 0.9723\n",
            "Epoch 17/100, Loss: 0.9728\n",
            "Epoch 18/100, Loss: 0.9731\n",
            "Epoch 19/100, Loss: 0.9729\n",
            "Epoch 20/100, Loss: 0.9717\n",
            "Epoch 21/100, Loss: 0.9731\n",
            "Epoch 22/100, Loss: 0.9732\n",
            "Epoch 23/100, Loss: 0.9723\n",
            "Epoch 24/100, Loss: 0.9719\n",
            "Epoch 25/100, Loss: 0.9733\n",
            "Epoch 26/100, Loss: 0.9715\n",
            "Epoch 27/100, Loss: 0.9727\n",
            "Epoch 28/100, Loss: 0.9700\n",
            "Epoch 29/100, Loss: 0.9724\n",
            "Epoch 30/100, Loss: 0.9695\n",
            "Epoch 31/100, Loss: 0.9559\n",
            "Epoch 32/100, Loss: 0.9715\n",
            "Epoch 33/100, Loss: 0.9556\n",
            "Epoch 34/100, Loss: 0.9684\n",
            "Epoch 35/100, Loss: 0.9550\n",
            "Epoch 36/100, Loss: 0.9587\n",
            "Epoch 37/100, Loss: 0.9539\n",
            "Epoch 38/100, Loss: 0.9492\n",
            "Epoch 39/100, Loss: 0.9398\n",
            "Epoch 40/100, Loss: 0.9465\n",
            "Epoch 41/100, Loss: 0.9213\n",
            "Epoch 42/100, Loss: 0.9241\n",
            "Epoch 43/100, Loss: 0.9310\n",
            "Epoch 44/100, Loss: 0.9397\n",
            "Epoch 45/100, Loss: 0.9043\n",
            "Epoch 46/100, Loss: 0.9122\n",
            "Epoch 47/100, Loss: 0.9561\n",
            "Epoch 48/100, Loss: 0.9229\n",
            "Epoch 49/100, Loss: 0.9329\n",
            "Epoch 50/100, Loss: 0.9111\n",
            "Epoch 51/100, Loss: 0.9097\n",
            "Epoch 52/100, Loss: 0.9123\n",
            "Epoch 53/100, Loss: 0.8971\n",
            "Epoch 54/100, Loss: 0.9087\n",
            "Epoch 55/100, Loss: 0.8950\n",
            "Epoch 56/100, Loss: 0.9006\n",
            "Epoch 57/100, Loss: 0.9092\n",
            "Epoch 58/100, Loss: 0.9036\n",
            "Epoch 59/100, Loss: 0.9099\n",
            "Epoch 60/100, Loss: 0.9217\n",
            "Epoch 61/100, Loss: 0.9036\n",
            "Epoch 62/100, Loss: 0.9159\n",
            "Epoch 63/100, Loss: 0.8819\n",
            "Epoch 64/100, Loss: 0.9062\n",
            "Epoch 65/100, Loss: 0.9005\n",
            "Epoch 66/100, Loss: 0.9318\n",
            "Epoch 67/100, Loss: 0.9081\n",
            "Epoch 68/100, Loss: 0.9038\n",
            "Epoch 69/100, Loss: 0.9401\n",
            "Epoch 70/100, Loss: 0.9238\n",
            "Epoch 71/100, Loss: 0.9647\n",
            "Epoch 72/100, Loss: 0.9735\n",
            "Epoch 73/100, Loss: 0.9573\n",
            "Epoch 74/100, Loss: 0.9168\n",
            "Epoch 75/100, Loss: 0.9064\n",
            "Epoch 76/100, Loss: 0.9114\n",
            "Epoch 77/100, Loss: 0.9006\n",
            "Epoch 78/100, Loss: 0.8888\n",
            "Epoch 79/100, Loss: 0.8960\n",
            "Epoch 80/100, Loss: 0.8957\n",
            "Epoch 81/100, Loss: 0.8908\n",
            "Epoch 82/100, Loss: 0.9073\n",
            "Epoch 83/100, Loss: 0.9215\n",
            "Epoch 84/100, Loss: 0.9090\n",
            "Epoch 85/100, Loss: 0.9460\n",
            "Epoch 86/100, Loss: 0.8998\n",
            "Epoch 87/100, Loss: 0.8949\n",
            "Epoch 88/100, Loss: 0.8920\n",
            "Epoch 89/100, Loss: 0.8825\n",
            "Epoch 90/100, Loss: 0.9378\n",
            "Epoch 91/100, Loss: 0.9011\n",
            "Epoch 92/100, Loss: 0.8994\n",
            "Epoch 93/100, Loss: 0.9040\n",
            "Epoch 94/100, Loss: 0.9002\n",
            "Epoch 95/100, Loss: 0.8936\n",
            "Epoch 96/100, Loss: 0.9151\n",
            "Epoch 97/100, Loss: 0.8996\n",
            "Epoch 98/100, Loss: 0.8904\n",
            "Epoch 99/100, Loss: 0.8851\n",
            "Epoch 100/100, Loss: 0.8827\n"
          ]
        }
      ],
      "source": [
        "# Training loop\n",
        "epochs = 100\n",
        "train_losses = []\n",
        "\n",
        "for epoch in range(epochs):\n",
        "    model.train()\n",
        "    epoch_loss = 0\n",
        "\n",
        "    for features, actions in train_loader:\n",
        "        optimizer.zero_grad()\n",
        "        outputs = model(features)\n",
        "        loss = criterion(outputs, actions)\n",
        "        loss.backward()\n",
        "        optimizer.step()\n",
        "        epoch_loss += loss.item()\n",
        "\n",
        "    train_losses.append(epoch_loss / len(train_loader))\n",
        "    print(f\"Epoch {epoch + 1}/{epochs}, Loss: {epoch_loss / len(train_loader):.4f}\")"
      ]
    },
    {
      "cell_type": "code",
      "source": [
        "plt.plot(train_losses)\n",
        "plt.xlabel('Epoch')\n",
        "plt.ylabel('Loss')\n",
        "plt.title('Training Loss')\n",
        "plt.show()"
      ],
      "metadata": {
        "colab": {
          "base_uri": "https://localhost:8080/",
          "height": 472
        },
        "id": "a8eMCBm6vxzA",
        "outputId": "d164beef-4f90-4b7e-f7da-f309c2009eae"
      },
      "execution_count": 24,
      "outputs": [
        {
          "output_type": "display_data",
          "data": {
            "text/plain": [
              "<Figure size 640x480 with 1 Axes>"
            ],
            "image/png": "[encoded data removed]"
          },
          "metadata": {}
        }
      ]
    },
    {
      "cell_type": "code",
      "source": [
        "model.eval()\n",
        "balance = 10000\n",
        "owned_gold = 0\n",
        "test_features = test_data[['Close/Last', 'SMA_short', 'SMA_long', 'PriceChange']].values\n",
        "\n",
        "for i in range(sequence_length, len(test_features)):\n",
        "    seq = torch.tensor(test_features[i-sequence_length:i], dtype=torch.float32).unsqueeze(0)\n",
        "    with torch.no_grad():\n",
        "        action = torch.argmax(model(seq)).item()\n",
        "\n",
        "    current_price = test_data['Close/Last'].iloc[i]\n",
        "\n",
        "    if action == 1 and balance > 0:  # Buy\n",
        "        owned_gold += balance / current_price\n",
        "        balance = 0\n",
        "\n",
        "    elif action == 2 and owned_gold > 0:  # Sell\n",
        "        balance += owned_gold * current_price\n",
        "        owned_gold = 0\n",
        "\n",
        "\n",
        "if owned_gold > 0:\n",
        "    balance += owned_gold * test_data['Close/Last'].iloc[-1]\n",
        "\n",
        "print(f\"Final balance: ${balance:.2f}\")\n"
      ],
      "metadata": {
        "colab": {
          "base_uri": "https://localhost:8080/"
        },
        "id": "OK0iBlayvvKW",
        "outputId": "6f760bbf-a429-4d19-afca-df95f944b92a"
      },
      "execution_count": 25,
      "outputs": [
        {
          "output_type": "stream",
          "name": "stdout",
          "text": [
            "Final balance: $11936.55\n"
          ]
        }
      ]
    },
    {
      "cell_type": "code",
      "source": [],
      "metadata": {
        "id": "H7QQ5mjBv29n"
      },
      "execution_count": 25,
      "outputs": []
    }
  ]
}